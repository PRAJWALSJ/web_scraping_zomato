{
 "cells": [
  {
   "cell_type": "code",
   "execution_count": 1,
   "id": "257d13e2",
   "metadata": {},
   "outputs": [],
   "source": [
    "import pandas as pd\n",
    "import time\n",
    "\n",
    "import requests\n",
    "from selenium import webdriver\n",
    "from bs4 import BeautifulSoup\n",
    "from urllib.parse import urljoin"
   ]
  },
  {
   "cell_type": "code",
   "execution_count": 2,
   "id": "3657a2ac",
   "metadata": {},
   "outputs": [],
   "source": [
    "start = time.time()"
   ]
  },
  {
   "cell_type": "code",
   "execution_count": 3,
   "id": "949d98e3",
   "metadata": {},
   "outputs": [],
   "source": [
    "#not required if you are using web driver\n",
    "headers = {'User-Agent': 'Mozilla/5.0 (Macintosh; Intel Mac OS X 10_15_7) AppleWebKit/537.36 (KHTML, like Gecko) Chrome/107.0.0.0 Safari/537.36'}"
   ]
  },
  {
   "cell_type": "code",
   "execution_count": 4,
   "id": "e650a692",
   "metadata": {},
   "outputs": [],
   "source": [
    "#web driver path. varies for each user\n",
    "driver = webdriver.Chrome(executable_path=r\"/Users/prajwalsj/Downloads/chromedriver\")"
   ]
  },
  {
   "cell_type": "code",
   "execution_count": 5,
   "id": "dc1f24f4",
   "metadata": {},
   "outputs": [],
   "source": [
    "#link of the location which the data has to be extracted\n",
    "driver.get(\"https://www.zomato.com/bhubaneswar/delivery-in-patia?delivery_subzone=13053&place_name=Patia%2C+Bhubaneswar%2C++India\")"
   ]
  },
  {
   "cell_type": "code",
   "execution_count": 6,
   "id": "5372e5e6",
   "metadata": {},
   "outputs": [],
   "source": [
    "time.sleep(2)  # Allow 2 seconds for the web page to (open depends on you)\n",
    "scroll_pause_time = 10  # You can set your own pause time. dont slow too slow that might not able to load more data.\n",
    "#need to experiment with the value of scroll_pause_time and see which works better as it depends on multiple factors like internet speed, traffic etc\n",
    "screen_height = driver.execute_script(\"return window.screen.height;\")  # get the screen height of the web\n",
    "i = 1\n",
    "\n",
    "while True:\n",
    "    # scroll one screen height each time\n",
    "    driver.execute_script(\"window.scrollTo(0, {screen_height}*{i});\".format(screen_height=screen_height, i=i))\n",
    "    i += 1\n",
    "    time.sleep(scroll_pause_time)\n",
    "    # update scroll height each time after scrolled, as the scroll height can change after we scrolled the page\n",
    "    scroll_height = driver.execute_script(\"return document.body.scrollHeight;\")\n",
    "    # Break the loop when the height we need to scroll to is larger than the total scroll height\n",
    "    if (screen_height) * i > scroll_height:\n",
    "        break"
   ]
  },
  {
   "cell_type": "code",
   "execution_count": 9,
   "id": "b0384320",
   "metadata": {},
   "outputs": [],
   "source": [
    "product_links = []"
   ]
  },
  {
   "cell_type": "code",
   "execution_count": 10,
   "id": "53ef85fa",
   "metadata": {},
   "outputs": [
    {
     "name": "stdout",
     "output_type": "stream",
     "text": [
      "['/bhubaneswar/patia-restaurants?place_name=Patia%2C+Bhubaneswar&dishv2_id=30308&category=1', '/bhubaneswar/patia-restaurants?place_name=Patia%2C+Bhubaneswar&dishv2_id=55280&category=1', '/bhubaneswar/patia-restaurants?place_name=Patia%2C+Bhubaneswar&dishv2_id=68987&category=1', '/bhubaneswar/patia-restaurants?place_name=Patia%2C+Bhubaneswar&dishv2_id=56691&category=1', '/bhubaneswar/patia-restaurants?place_name=Patia%2C+Bhubaneswar&dishv2_id=19315&category=1', '/bhubaneswar/patia-restaurants?place_name=Patia%2C+Bhubaneswar&dishv2_id=9055&category=1', '/bhubaneswar/patia-restaurants?place_name=Patia%2C+Bhubaneswar&dishv2_id=12025&category=1', '/bhubaneswar/patia-restaurants?place_name=Patia%2C+Bhubaneswar&dishv2_id=35301&category=1', '/bhubaneswar/patia-restaurants?place_name=Patia%2C+Bhubaneswar&dishv2_id=10296&category=1', '/bhubaneswar/patia-restaurants?place_name=Patia%2C+Bhubaneswar&dishv2_id=35013&category=1', '/bhubaneswar/patia-restaurants?place_name=Patia%2C+Bhubaneswar&dishv2_id=23367&category=1', '/bhubaneswar/patia-restaurants?place_name=Patia%2C+Bhubaneswar&dishv2_id=62986&category=1', '/bhubaneswar/keventers-milkshakes-desserts-patia-bhubaneshwar/order', '/bhubaneswar/keventers-milkshakes-desserts-patia-bhubaneshwar/order', '/bhubaneswar/burger-king-1-patia-bhubaneshwar/order', '/bhubaneswar/burger-king-1-patia-bhubaneshwar/order', '/bhubaneswar/chandini-food-magic-patia-bhubaneshwar/order', '/bhubaneswar/chandini-food-magic-patia-bhubaneshwar/order', '/bhubaneswar/taste-of-china-chandrasekharpur-bhubaneshwar/order', '/bhubaneswar/taste-of-china-chandrasekharpur-bhubaneshwar/order', '/bhubaneswar/biriyani-box-patia-bhubaneshwar/order', '/bhubaneswar/biriyani-box-patia-bhubaneshwar/order', '/bhubaneswar/green-chillyz-chandrasekharpur-bhubaneshwar/order', '/bhubaneswar/green-chillyz-chandrasekharpur-bhubaneshwar/order', '/bhubaneswar/rolls-on-wheels-chandrasekharpur-bhubaneshwar/order', '/bhubaneswar/rolls-on-wheels-chandrasekharpur-bhubaneshwar/order', '/bhubaneswar/the-biryani-house-1-patia-bhubaneshwar/order', '/bhubaneswar/the-biryani-house-1-patia-bhubaneshwar/order', '/bhubaneswar/wow-momo-patia-bhubaneshwar/order', '/bhubaneswar/wow-momo-patia-bhubaneshwar/order', '/bhubaneswar/house-of-biryani-chandrasekharpur-bhubaneshwar/order', '/bhubaneswar/house-of-biryani-chandrasekharpur-bhubaneshwar/order', '/bhubaneswar/kfc-2-patia-bhubaneshwar/order', '/bhubaneswar/kfc-2-patia-bhubaneshwar/order', '/bhubaneswar/pizza-hut-1-patia-bhubaneshwar/order', '/bhubaneswar/pizza-hut-1-patia-bhubaneshwar/order', '/bhubaneswar/dominos-pizza-patia-bhubaneshwar/order', '/bhubaneswar/dominos-pizza-patia-bhubaneshwar/order', '/bhubaneswar/hotel-charlie-chandrasekharpur-bhubaneshwar/order', '/bhubaneswar/hotel-charlie-chandrasekharpur-bhubaneshwar/order', '/bhubaneswar/jugaad-jn-patia-bhubaneshwar/order', '/bhubaneswar/jugaad-jn-patia-bhubaneshwar/order', '/bhubaneswar/truptee-legacy-patia-bhubaneshwar/order', '/bhubaneswar/truptee-legacy-patia-bhubaneshwar/order', '/bhubaneswar/wow-china-patia-bhubaneshwar/order', '/bhubaneswar/wow-china-patia-bhubaneshwar/order', '/bhubaneswar/sardar-ji-restaurant-patia-bhubaneshwar/order', '/bhubaneswar/sardar-ji-restaurant-patia-bhubaneshwar/order', '/bhubaneswar/the-tandoori-night-chandrasekharpur-bhubaneshwar/order', '/bhubaneswar/the-tandoori-night-chandrasekharpur-bhubaneshwar/order', '/bhubaneswar/biggies-burger-patia-bhubaneshwar/order', '/bhubaneswar/biggies-burger-patia-bhubaneshwar/order', '/bhubaneswar/sania-snacks-patia-bhubaneshwar/order', '/bhubaneswar/sania-snacks-patia-bhubaneshwar/order', '/bhubaneswar/oberai-bakers-cafe-1-nayapalli-bhubaneshwar/order', '/bhubaneswar/oberai-bakers-cafe-1-nayapalli-bhubaneshwar/order', '/bhubaneswar/hot-chilly-fast-food-patia-bhubaneshwar/order', '/bhubaneswar/hot-chilly-fast-food-patia-bhubaneshwar/order', '/bhubaneswar/kwality-walls-frozen-dessert-and-ice-cream-shop-4-patia-bhubaneshwar/order', '/bhubaneswar/kwality-walls-frozen-dessert-and-ice-cream-shop-4-patia-bhubaneshwar/order', '/bhubaneswar/secret-kitchen-patia-bhubaneshwar/order', '/bhubaneswar/secret-kitchen-patia-bhubaneshwar/order', '/bhubaneswar/hotel-toshali-patia-bhubaneshwar/order', '/bhubaneswar/hotel-toshali-patia-bhubaneshwar/order', '/bhubaneswar/99-north-restaurant-1-patia-bhubaneshwar/order', '/bhubaneswar/99-north-restaurant-1-patia-bhubaneshwar/order', '/bhubaneswar/hungry-tummy-chandrasekharpur-bhubaneshwar/order', '/bhubaneswar/hungry-tummy-chandrasekharpur-bhubaneshwar/order', '/bhubaneswar/frozit-patia-bhubaneshwar/order', '/bhubaneswar/frozit-patia-bhubaneshwar/order', '/bhubaneswar/idli-bhavan-patia-bhubaneshwar/order', '/bhubaneswar/idli-bhavan-patia-bhubaneshwar/order', '/bhubaneswar/marwari-rasoi-patia-bhubaneshwar/order', '/bhubaneswar/marwari-rasoi-patia-bhubaneshwar/order', '/bhubaneswar/shree-kunj-restaurant-jayadev-vihar-bhubaneshwar/order', '/bhubaneswar/shree-kunj-restaurant-jayadev-vihar-bhubaneshwar/order', '/bhubaneswar/eat-street-2-patia-bhubaneshwar/order', '/bhubaneswar/eat-street-2-patia-bhubaneshwar/order', '/bhubaneswar/hotel-tarini-cottage-chandrasekharpur-bhubaneshwar/order', '/bhubaneswar/hotel-tarini-cottage-chandrasekharpur-bhubaneshwar/order', '/bhubaneswar/ubq-by-barbeque-nation-chandrasekharpur-bhubaneshwar/order', '/bhubaneswar/ubq-by-barbeque-nation-chandrasekharpur-bhubaneshwar/order', '/bhubaneswar/adda-unplugged-patia-bhubaneshwar/order', '/bhubaneswar/adda-unplugged-patia-bhubaneshwar/order', '/bhubaneswar/biryani-by-kilo-chandrasekharpur-bhubaneshwar/order', '/bhubaneswar/biryani-by-kilo-chandrasekharpur-bhubaneshwar/order', '/bhubaneswar/zam-zam-grills-patia-bhubaneshwar/order', '/bhubaneswar/zam-zam-grills-patia-bhubaneshwar/order', '/bhubaneswar/carbon-patia-bhubaneshwar/order', '/bhubaneswar/carbon-patia-bhubaneshwar/order', '/bhubaneswar/lazzawaaab-pizza-patia-bhubaneshwar/order', '/bhubaneswar/lazzawaaab-pizza-patia-bhubaneshwar/order', '/bhubaneswar/zero-hour-bakery-chandrasekharpur-bhubaneshwar/order', '/bhubaneswar/zero-hour-bakery-chandrasekharpur-bhubaneshwar/order', '/bhubaneswar/nic-ice-creams-patia-bhubaneshwar/order', '/bhubaneswar/nic-ice-creams-patia-bhubaneshwar/order', '/bhubaneswar/tasty-momos-patia-bhubaneshwar/order', '/bhubaneswar/tasty-momos-patia-bhubaneshwar/order', '/bhubaneswar/sandhyarani-hotel-gajapati-nagar-bhubaneshwar/order', '/bhubaneswar/sandhyarani-hotel-gajapati-nagar-bhubaneshwar/order', '/bhubaneswar/barbeque-nation-chandrasekharpur-bhubaneshwar/order', '/bhubaneswar/barbeque-nation-chandrasekharpur-bhubaneshwar/order', '/bhubaneswar/quality-momos-chandrasekharpur-bhubaneshwar/order', '/bhubaneswar/quality-momos-chandrasekharpur-bhubaneshwar/order', '/bhubaneswar/haka-woka-gajapati-nagar-bhubaneshwar/order', '/bhubaneswar/haka-woka-gajapati-nagar-bhubaneshwar/order', '/bhubaneswar/freshbox-patia-bhubaneshwar/order', '/bhubaneswar/freshbox-patia-bhubaneshwar/order', '/bhubaneswar/bikkgane-biryani-chandrasekharpur-bhubaneshwar/order', '/bhubaneswar/bikkgane-biryani-chandrasekharpur-bhubaneshwar/order', '/bhubaneswar/behrouz-biryani-patia-bhubaneshwar/order', '/bhubaneswar/behrouz-biryani-patia-bhubaneshwar/order', '/bhubaneswar/hotel-chetan-inn-chandrasekharpur-bhubaneshwar/order', '/bhubaneswar/hotel-chetan-inn-chandrasekharpur-bhubaneshwar/order', '/bhubaneswar/maa-durga-hotel-chandrasekharpur-bhubaneshwar/order', '/bhubaneswar/maa-durga-hotel-chandrasekharpur-bhubaneshwar/order', '/bhubaneswar/rolls-world-chandrasekharpur-bhubaneshwar/order', '/bhubaneswar/rolls-world-chandrasekharpur-bhubaneshwar/order', '/bhubaneswar/house-of-dum-biryani-jayadev-vihar-bhubaneshwar/order', '/bhubaneswar/house-of-dum-biryani-jayadev-vihar-bhubaneshwar/order', '/bhubaneswar/smog-resto-cafe-gajapati-nagar-bhubaneshwar/order', '/bhubaneswar/smog-resto-cafe-gajapati-nagar-bhubaneshwar/order', '/bhubaneswar/dosa-plaza-patia-bhubaneshwar/order', '/bhubaneswar/dosa-plaza-patia-bhubaneshwar/order', '/bhubaneswar/sriyaram-restaurant-chandrasekharpur-bhubaneshwar/order', '/bhubaneswar/sriyaram-restaurant-chandrasekharpur-bhubaneshwar/order', '/bhubaneswar/bhookaa-patia-bhubaneshwar/order', '/bhubaneswar/bhookaa-patia-bhubaneshwar/order', '/bhubaneswar/pots-and-pans-1-chandrasekharpur-bhubaneshwar/order', '/bhubaneswar/pots-and-pans-1-chandrasekharpur-bhubaneshwar/order', '/bhubaneswar/kake-da-minar-chandrasekharpur-bhubaneshwar/order', '/bhubaneswar/kake-da-minar-chandrasekharpur-bhubaneshwar/order', '/bhubaneswar/7th-heaven-1-patia-bhubaneshwar/order', '/bhubaneswar/7th-heaven-1-patia-bhubaneshwar/order', '/bhubaneswar/warmoven-cake-desserts-chandrasekharpur-bhubaneshwar/order', '/bhubaneswar/warmoven-cake-desserts-chandrasekharpur-bhubaneshwar/order', '/bhubaneswar/brew-xpresz-jayadev-vihar-bhubaneshwar/order', '/bhubaneswar/brew-xpresz-jayadev-vihar-bhubaneshwar/order', '/bhubaneswar/biryani-badshah-chandrasekharpur-bhubaneshwar/order', '/bhubaneswar/biryani-badshah-chandrasekharpur-bhubaneshwar/order', '/bhubaneswar/dbake-chandrasekharpur-bhubaneshwar/order', '/bhubaneswar/dbake-chandrasekharpur-bhubaneshwar/order', '/bhubaneswar/melbourne-pizza-patia-bhubaneshwar/order', '/bhubaneswar/melbourne-pizza-patia-bhubaneshwar/order', '/bhubaneswar/biriyani-king-patia-bhubaneshwar/order', '/bhubaneswar/biriyani-king-patia-bhubaneshwar/order', '/bhubaneswar/mcdonalds-chandrasekharpur-bhubaneshwar/order', '/bhubaneswar/mcdonalds-chandrasekharpur-bhubaneshwar/order', '/bhubaneswar/subway-2-sahid-nagar-bhubaneshwar/order', '/bhubaneswar/subway-2-sahid-nagar-bhubaneshwar/order', '/bhubaneswar/manomay-lakshmi-sagar-bhubaneshwar/order', '/bhubaneswar/manomay-lakshmi-sagar-bhubaneshwar/order', '/bhubaneswar/chicago-pizza-patia-bhubaneshwar/order', '/bhubaneswar/chicago-pizza-patia-bhubaneshwar/order', '/bhubaneswar/daal-chawal-we-serve-passion-4-chandrasekharpur-bhubaneshwar/order', '/bhubaneswar/daal-chawal-we-serve-passion-4-chandrasekharpur-bhubaneshwar/order', '/bhubaneswar/cupcake-bliss-cakes-desserts-chandrasekharpur-bhubaneshwar/order', '/bhubaneswar/cupcake-bliss-cakes-desserts-chandrasekharpur-bhubaneshwar/order', '/bhubaneswar/patiala-house-patia-bhubaneshwar/order', '/bhubaneswar/patiala-house-patia-bhubaneshwar/order', '/bhubaneswar/tandooriwala-patia-bhubaneshwar/order', '/bhubaneswar/tandooriwala-patia-bhubaneshwar/order', '/bhubaneswar/biryani-by-desi-patia-bhubaneshwar/order', '/bhubaneswar/biryani-by-desi-patia-bhubaneshwar/order', '/bhubaneswar/art-of-biryani-jayadev-vihar-bhubaneshwar/order', '/bhubaneswar/art-of-biryani-jayadev-vihar-bhubaneshwar/order', '/bhubaneswar/the-belgian-waffle-co-1-patia-bhubaneshwar/order', '/bhubaneswar/the-belgian-waffle-co-1-patia-bhubaneshwar/order', '/bhubaneswar/baskin-robbins-patia-bhubaneshwar/order', '/bhubaneswar/baskin-robbins-patia-bhubaneshwar/order', '/bhubaneswar/hotel-gajalaxmi-chandrasekharpur-bhubaneshwar/order', '/bhubaneswar/hotel-gajalaxmi-chandrasekharpur-bhubaneshwar/order', '/bhubaneswar/kalpana-restaurant-kolkata-rolls-gajapati-nagar-bhubaneshwar/order', '/bhubaneswar/kalpana-restaurant-kolkata-rolls-gajapati-nagar-bhubaneshwar/order', '/bhubaneswar/its-from-rosys-kitchen-chandrasekharpur-bhubaneshwar/order', '/bhubaneswar/its-from-rosys-kitchen-chandrasekharpur-bhubaneshwar/order', '/bhubaneswar/keventers-ice-cream-patia-bhubaneshwar/order', '/bhubaneswar/keventers-ice-cream-patia-bhubaneshwar/order', '/bhubaneswar/ice-indian-chicken-express-patia-bhubaneshwar/order', '/bhubaneswar/ice-indian-chicken-express-patia-bhubaneshwar/order', '/bhubaneswar/radhas-sweets-snacks-chandrasekharpur-bhubaneshwar/order', '/bhubaneswar/radhas-sweets-snacks-chandrasekharpur-bhubaneshwar/order', '/bhubaneswar/biryani-point-1-patia-bhubaneshwar/order', '/bhubaneswar/biryani-point-1-patia-bhubaneshwar/order', '/bhubaneswar/tcd-restaurant-banquet-chandrasekharpur-bhubaneshwar/order', '/bhubaneswar/tcd-restaurant-banquet-chandrasekharpur-bhubaneshwar/order', '/bhubaneswar/go-cool-patia-bhubaneshwar/order', '/bhubaneswar/go-cool-patia-bhubaneshwar/order', '/bhubaneswar/sripuram-chandrasekharpur/order', '/bhubaneswar/sripuram-chandrasekharpur/order', '/bhubaneswar/the-burger-bites-patia-bhubaneshwar/order', '/bhubaneswar/the-burger-bites-patia-bhubaneshwar/order', '/bhubaneswar/giani-patia-bhubaneshwar/order', '/bhubaneswar/giani-patia-bhubaneshwar/order', '/bhubaneswar/shiraz-golden-restaurant-unit-4-bhubaneshwar/order', '/bhubaneswar/shiraz-golden-restaurant-unit-4-bhubaneshwar/order', '/bhubaneswar/bocca-cafe-1-patia-bhubaneshwar/order', '/bhubaneswar/bocca-cafe-1-patia-bhubaneshwar/order', '/bhubaneswar/silver-spoon-patia-bhubaneshwar/order', '/bhubaneswar/silver-spoon-patia-bhubaneshwar/order', '/bhubaneswar/bonfire-chandrasekharpur-bhubaneshwar/order', '/bhubaneswar/bonfire-chandrasekharpur-bhubaneshwar/order', '/bhubaneswar/south-indian-tiffin-fast-food-patia-bhubaneshwar/order', '/bhubaneswar/south-indian-tiffin-fast-food-patia-bhubaneshwar/order', '/bhubaneswar/friendship-momos-1-chandrasekharpur-bhubaneshwar/order', '/bhubaneswar/friendship-momos-1-chandrasekharpur-bhubaneshwar/order', '/bhubaneswar/wrapsto-patia-bhubaneshwar/order', '/bhubaneswar/wrapsto-patia-bhubaneshwar/order', '/bhubaneswar/pastry-jar-1-patia-bhubaneshwar/order', '/bhubaneswar/pastry-jar-1-patia-bhubaneshwar/order', '/bhubaneswar/royal-arabian-kitchen-2-patia-bhubaneshwar/order', '/bhubaneswar/royal-arabian-kitchen-2-patia-bhubaneshwar/order', '/bhubaneswar/arabikaas-arabian-restaurant-patia-bhubaneshwar/order', '/bhubaneswar/arabikaas-arabian-restaurant-patia-bhubaneshwar/order', '/bhubaneswar/cafe-coffee-day-2-patia-bhubaneshwar/order', '/bhubaneswar/cafe-coffee-day-2-patia-bhubaneshwar/order', '/bhubaneswar/faasos-wraps-rolls-patia-bhubaneshwar/order', '/bhubaneswar/faasos-wraps-rolls-patia-bhubaneshwar/order', '/bhubaneswar/waffle-bites-patia-bhubaneshwar/order', '/bhubaneswar/waffle-bites-patia-bhubaneshwar/order', '/bhubaneswar/mr-food-taste-from-home-chandrasekharpur-bhubaneshwar/order', '/bhubaneswar/mr-food-taste-from-home-chandrasekharpur-bhubaneshwar/order', '/bhubaneswar/three-kings-patia-bhubaneshwar/order', '/bhubaneswar/three-kings-patia-bhubaneshwar/order', '/bhubaneswar/mughlai-house-1-patia-bhubaneshwar/order', '/bhubaneswar/mughlai-house-1-patia-bhubaneshwar/order', '/bhubaneswar/biryani-babu-patia-bhubaneshwar/order', '/bhubaneswar/biryani-babu-patia-bhubaneshwar/order', '/bhubaneswar/nanaas-urban-dhaba-chandrasekharpur-bhubaneshwar/order', '/bhubaneswar/nanaas-urban-dhaba-chandrasekharpur-bhubaneshwar/order', '/bhubaneswar/marwari-express-patia-bhubaneshwar/order', '/bhubaneswar/marwari-express-patia-bhubaneshwar/order', '/bhubaneswar/moms-pizzateria-patia-bhubaneshwar/order', '/bhubaneswar/moms-pizzateria-patia-bhubaneshwar/order', '/bhubaneswar/bharpoor-1-patia-bhubaneshwar/order', '/bhubaneswar/bharpoor-1-patia-bhubaneshwar/order', '/bhubaneswar/hotel-sairam-1-jayadev-vihar-bhubaneshwar/order', '/bhubaneswar/hotel-sairam-1-jayadev-vihar-bhubaneshwar/order', '/bhubaneswar/malva-restaurant-patia-bhubaneshwar/order', '/bhubaneswar/malva-restaurant-patia-bhubaneshwar/order', '/bhubaneswar/kwality-walls-frozen-dessert-and-ice-cream-shop-6-chandrasekharpur-bhubaneshwar/order', '/bhubaneswar/kwality-walls-frozen-dessert-and-ice-cream-shop-6-chandrasekharpur-bhubaneshwar/order', '/bhubaneswar/blueberrys-cafe-patia-bhubaneshwar/order', '/bhubaneswar/blueberrys-cafe-patia-bhubaneshwar/order', '/bhubaneswar/yo-panda-the-oriental-express-patia-bhubaneshwar/order', '/bhubaneswar/yo-panda-the-oriental-express-patia-bhubaneshwar/order', '/bhubaneswar/china-belly-by-wow-momo-patia-bhubaneshwar/order', '/bhubaneswar/china-belly-by-wow-momo-patia-bhubaneshwar/order', '/bhubaneswar/royal-biryani-1-patia-bhubaneshwar/order', '/bhubaneswar/royal-biryani-1-patia-bhubaneshwar/order', '/bhubaneswar/the-ladle-patia-bhubaneshwar/order', '/bhubaneswar/the-ladle-patia-bhubaneshwar/order', '/bhubaneswar/bdm-veg-premium-food-joint-1-patia-bhubaneshwar/order', '/bhubaneswar/bdm-veg-premium-food-joint-1-patia-bhubaneshwar/order', '/bhubaneswar/wok-of-china-2-chandrasekharpur-bhubaneshwar/order', '/bhubaneswar/wok-of-china-2-chandrasekharpur-bhubaneshwar/order', '/bhubaneswar/venus-premium-chandrasekharpur-bhubaneshwar/order', '/bhubaneswar/venus-premium-chandrasekharpur-bhubaneshwar/order', '/bhubaneswar/the-hungers-point-chandrasekharpur-bhubaneshwar/order', '/bhubaneswar/the-hungers-point-chandrasekharpur-bhubaneshwar/order', '/bhubaneswar/s-r-burger-point-patia-bhubaneshwar/order', '/bhubaneswar/s-r-burger-point-patia-bhubaneshwar/order', '/bhubaneswar/starbucks-coffee-rasulgarh-bhubaneshwar/order', '/bhubaneswar/starbucks-coffee-rasulgarh-bhubaneshwar/order', '/bhubaneswar/chilis-grill-bar-sahid-nagar-bhubaneshwar/order', '/bhubaneswar/chilis-grill-bar-sahid-nagar-bhubaneshwar/order', '/bhubaneswar/barbecue-odisha-chandrasekharpur-bhubaneshwar/order', '/bhubaneswar/barbecue-odisha-chandrasekharpur-bhubaneshwar/order', '/bhubaneswar/ovenstory-pizza-patia-bhubaneshwar/order', '/bhubaneswar/ovenstory-pizza-patia-bhubaneshwar/order', '/bhubaneswar/momo-house-1-patia-bhubaneshwar/order', '/bhubaneswar/momo-house-1-patia-bhubaneshwar/order', '/bhubaneswar/bowl-break-patia-bhubaneshwar/order', '/bhubaneswar/bowl-break-patia-bhubaneshwar/order', '/bhubaneswar/bhuri-bhoj-unit-4-bhubaneshwar/order', '/bhubaneswar/bhuri-bhoj-unit-4-bhubaneshwar/order', '/bhubaneswar/abs-absolute-barbecues-patia-bhubaneshwar/order', '/bhubaneswar/abs-absolute-barbecues-patia-bhubaneshwar/order', '/bhubaneswar/michaels-kitchen-gajapati-nagar-bhubaneshwar/order', '/bhubaneswar/michaels-kitchen-gajapati-nagar-bhubaneshwar/order', '/bhubaneswar/curry-leaf-the-kitchen-3-patia-bhubaneshwar/order', '/bhubaneswar/curry-leaf-the-kitchen-3-patia-bhubaneshwar/order', '/bhubaneswar/star-kitchen-chandrasekharpur-bhubaneshwar/order', '/bhubaneswar/star-kitchen-chandrasekharpur-bhubaneshwar/order', '/bhubaneswar/3-chef-fast-food-chandrasekharpur-bhubaneshwar/order', '/bhubaneswar/3-chef-fast-food-chandrasekharpur-bhubaneshwar/order', '/bhubaneswar/khichdi@99-patia-bhubaneshwar/order', '/bhubaneswar/khichdi@99-patia-bhubaneshwar/order', '/bhubaneswar/the-dessert-zone-chandrasekharpur-bhubaneshwar/order', '/bhubaneswar/the-dessert-zone-chandrasekharpur-bhubaneshwar/order', '/bhubaneswar/huts-foods-co-chandrasekharpur-bhubaneshwar/order', '/bhubaneswar/huts-foods-co-chandrasekharpur-bhubaneshwar/order', '/bhubaneswar/karims-original-from-jama-masjid-delhi-6-patia-bhubaneshwar/order', '/bhubaneswar/karims-original-from-jama-masjid-delhi-6-patia-bhubaneshwar/order', '/bhubaneswar/3-chef-indo-china-chandrasekharpur-bhubaneshwar/order', '/bhubaneswar/3-chef-indo-china-chandrasekharpur-bhubaneshwar/order', '/bhubaneswar/punjabi-chaap-corner-1-patia-bhubaneshwar/order', '/bhubaneswar/punjabi-chaap-corner-1-patia-bhubaneshwar/order', '/bhubaneswar/spica-chandrasekharpur-bhubaneshwar/order', '/bhubaneswar/spica-chandrasekharpur-bhubaneshwar/order', '/bhubaneswar/biriyani-taj-chinese-fast-food-patia-bhubaneshwar/order', '/bhubaneswar/biriyani-taj-chinese-fast-food-patia-bhubaneshwar/order', '/bhubaneswar/paris-bakery-gajapati-nagar-bhubaneshwar/order', '/bhubaneswar/paris-bakery-gajapati-nagar-bhubaneshwar/order', '/bhubaneswar/narula-sweets-patia-bhubaneshwar/order', '/bhubaneswar/narula-sweets-patia-bhubaneshwar/order', '/bhubaneswar/rasha-kasha-my-favourite-patia-bhubaneshwar/order', '/bhubaneswar/rasha-kasha-my-favourite-patia-bhubaneshwar/order', '/bhubaneswar/oopre-kitchen-bar-chandrasekharpur-bhubaneshwar/order', '/bhubaneswar/oopre-kitchen-bar-chandrasekharpur-bhubaneshwar/order', '/bhubaneswar/moody-blues-gajapati-nagar-bhubaneshwar/order', '/bhubaneswar/moody-blues-gajapati-nagar-bhubaneshwar/order', '/bhubaneswar/biriyani-bawarchi-patia-bhubaneshwar/order', '/bhubaneswar/biriyani-bawarchi-patia-bhubaneshwar/order', '/bhubaneswar/burpeaze-gajapati-nagar-bhubaneshwar/order', '/bhubaneswar/burpeaze-gajapati-nagar-bhubaneshwar/order', '/bhubaneswar/kanika-cuisine-good-food-is-good-mood-patia-bhubaneshwar/order', '/bhubaneswar/kanika-cuisine-good-food-is-good-mood-patia-bhubaneshwar/order', '/bhubaneswar/arabian-house-patia-bhubaneshwar/order', '/bhubaneswar/arabian-house-patia-bhubaneshwar/order', '/bhubaneswar/hotel-blue-heaven-chandrasekharpur-bhubaneshwar/order', '/bhubaneswar/hotel-blue-heaven-chandrasekharpur-bhubaneshwar/order', '/bhubaneswar/sriyaram-sweets-chandrasekharpur-bhubaneshwar/order', '/bhubaneswar/sriyaram-sweets-chandrasekharpur-bhubaneshwar/order', '/bhubaneswar/od-11-baripada-kitchen-chandrasekharpur-bhubaneshwar/order', '/bhubaneswar/od-11-baripada-kitchen-chandrasekharpur-bhubaneshwar/order', '/bhubaneswar/world-baker-pal-heights-jayadev-vihar-bhubaneshwar/order', '/bhubaneswar/world-baker-pal-heights-jayadev-vihar-bhubaneshwar/order', '/bhubaneswar/chaiwala-babu-patia-bhubaneshwar/order', '/bhubaneswar/chaiwala-babu-patia-bhubaneshwar/order', '/bhubaneswar/south-indian-home-kitchen-patia-bhubaneshwar/order', '/bhubaneswar/south-indian-home-kitchen-patia-bhubaneshwar/order', '/bhubaneswar/tasty-royal-food-1-chandrasekharpur-bhubaneshwar/order', '/bhubaneswar/tasty-royal-food-1-chandrasekharpur-bhubaneshwar/order', '/bhubaneswar/ikka-patia-bhubaneshwar/order', '/bhubaneswar/ikka-patia-bhubaneshwar/order', '/bhubaneswar/hash-house-2-patia-bhubaneshwar/order', '/bhubaneswar/hash-house-2-patia-bhubaneshwar/order', '/bhubaneswar/the-chai-corner-patia-bhubaneshwar/order', '/bhubaneswar/the-chai-corner-patia-bhubaneshwar/order', '/bhubaneswar/wings-and-burger-2-patia-bhubaneshwar/order', '/bhubaneswar/wings-and-burger-2-patia-bhubaneshwar/order', '/bhubaneswar/shake-speare-patia-bhubaneshwar/order', '/bhubaneswar/shake-speare-patia-bhubaneshwar/order', '/bhubaneswar/oppheem-patia-bhubaneshwar/order', '/bhubaneswar/oppheem-patia-bhubaneshwar/order', '/bhubaneswar/9th-street-unit-4-bhubaneshwar/order', '/bhubaneswar/9th-street-unit-4-bhubaneshwar/order', '/bhubaneswar/cakes-n-shapes-sahid-nagar-bhubaneshwar/order', '/bhubaneswar/cakes-n-shapes-sahid-nagar-bhubaneshwar/order', '/bhubaneswar/silver-streek-chandrasekharpur-bhubaneshwar/order', '/bhubaneswar/silver-streek-chandrasekharpur-bhubaneshwar/order', '/bhubaneswar/country-kitchen-1-chandrasekharpur-bhubaneshwar/order', '/bhubaneswar/country-kitchen-1-chandrasekharpur-bhubaneshwar/order', '/bhubaneswar/the-super-bowls-patia-bhubaneshwar/order', '/bhubaneswar/the-super-bowls-patia-bhubaneshwar/order', '/bhubaneswar/momoz-king-patia-bhubaneshwar/order', '/bhubaneswar/momoz-king-patia-bhubaneshwar/order', '/bhubaneswar/vrindavan-chaat-patia-bhubaneshwar/order', '/bhubaneswar/vrindavan-chaat-patia-bhubaneshwar/order', '/bhubaneswar/odo2taste-patia-bhubaneshwar/order', '/bhubaneswar/odo2taste-patia-bhubaneshwar/order', '/bhubaneswar/grandmas-kitchen-1-patia-bhubaneshwar/order', '/bhubaneswar/grandmas-kitchen-1-patia-bhubaneshwar/order', '/bhubaneswar/golden-orchid-jayadev-vihar-bhubaneshwar/order', '/bhubaneswar/golden-orchid-jayadev-vihar-bhubaneshwar/order', '/bhubaneswar/zaika-pal-heights-jayadev-vihar-bhubaneshwar/order', '/bhubaneswar/zaika-pal-heights-jayadev-vihar-bhubaneshwar/order', '/bhubaneswar/paratha-rasoi-patia-bhubaneshwar/order', '/bhubaneswar/paratha-rasoi-patia-bhubaneshwar/order', '/bhubaneswar/drunken-monkey-patia-bhubaneshwar/order', '/bhubaneswar/drunken-monkey-patia-bhubaneshwar/order', '/bhubaneswar/bake-shop-chandrasekharpur-bhubaneshwar/order', '/bhubaneswar/bake-shop-chandrasekharpur-bhubaneshwar/order', '/bhubaneswar/lunchbox-meals-and-thalis-patia-bhubaneshwar/order', '/bhubaneswar/lunchbox-meals-and-thalis-patia-bhubaneshwar/order', '/bhubaneswar/the-traffic-jam-chandrasekharpur-bhubaneshwar/order', '/bhubaneswar/the-traffic-jam-chandrasekharpur-bhubaneshwar/order', '/bhubaneswar/pabrais-fresh-naturelle-ice-cream-1-jayadev-vihar-bhubaneshwar/order', '/bhubaneswar/pabrais-fresh-naturelle-ice-cream-1-jayadev-vihar-bhubaneshwar/order', '/bhubaneswar/grilleesh-2-patia-bhubaneshwar/order', '/bhubaneswar/grilleesh-2-patia-bhubaneshwar/order', '/bhubaneswar/monarca-chandrasekharpur-bhubaneshwar/order', '/bhubaneswar/monarca-chandrasekharpur-bhubaneshwar/order', '/bhubaneswar/crazy-tadka-1-patia-bhubaneshwar/order', '/bhubaneswar/crazy-tadka-1-patia-bhubaneshwar/order', '/bhubaneswar/dakhin-9-chandrasekharpur-bhubaneshwar/order', '/bhubaneswar/dakhin-9-chandrasekharpur-bhubaneshwar/order', '/bhubaneswar/asiatrail-chandrasekharpur-bhubaneshwar/order', '/bhubaneswar/asiatrail-chandrasekharpur-bhubaneshwar/order', '/bhubaneswar/sigree-rasulgarh-bhubaneshwar/order', '/bhubaneswar/sigree-rasulgarh-bhubaneshwar/order', '/bhubaneswar/bells-whistles-bistro-patia-bhubaneshwar/order', '/bhubaneswar/bells-whistles-bistro-patia-bhubaneshwar/order', '/bhubaneswar/refresh-live-cafe-and-restro-chandrasekharpur-bhubaneshwar/order', '/bhubaneswar/refresh-live-cafe-and-restro-chandrasekharpur-bhubaneshwar/order', '/bhubaneswar/getaway-healthy-ice-creams-chandrasekharpur-bhubaneshwar/order', '/bhubaneswar/getaway-healthy-ice-creams-chandrasekharpur-bhubaneshwar/order', '/bhubaneswar/desi-bidesi-patia-bhubaneshwar/order', '/bhubaneswar/desi-bidesi-patia-bhubaneshwar/order', '/bhubaneswar/super-food-patia-bhubaneshwar/order', '/bhubaneswar/super-food-patia-bhubaneshwar/order', '/bhubaneswar/lal-qila-patia-bhubaneshwar/order', '/bhubaneswar/lal-qila-patia-bhubaneshwar/order', '/bhubaneswar/faruuzi-patia-bhubaneshwar/order', '/bhubaneswar/faruuzi-patia-bhubaneshwar/order', '/bhubaneswar/bae-of-biryani-patia-bhubaneshwar/order', '/bhubaneswar/bae-of-biryani-patia-bhubaneshwar/order', '/bhubaneswar/mocha-kaffe-patia-bhubaneshwar/order', '/bhubaneswar/mocha-kaffe-patia-bhubaneshwar/order', '/bhubaneswar/sweethart-cakes-patia-bhubaneshwar/order', '/bhubaneswar/sweethart-cakes-patia-bhubaneshwar/order', '/bhubaneswar/the-chef-restaurant-nayapalli-bhubaneshwar/order', '/bhubaneswar/the-chef-restaurant-nayapalli-bhubaneshwar/order', '/bhubaneswar/biriyani-boss-1-chandrasekharpur-bhubaneshwar/order', '/bhubaneswar/biriyani-boss-1-chandrasekharpur-bhubaneshwar/order', '/bhubaneswar/richards-kitchen-coffee-bar-patia-bhubaneshwar/order', '/bhubaneswar/richards-kitchen-coffee-bar-patia-bhubaneshwar/order', '/bhubaneswar/mamma-in-cucina-patia-bhubaneshwar/order', '/bhubaneswar/mamma-in-cucina-patia-bhubaneshwar/order', '/bhubaneswar/zingiber-patia-bhubaneshwar/order', '/bhubaneswar/zingiber-patia-bhubaneshwar/order', '/bhubaneswar/kaati-zone-rolls-and-wraps-chandrasekharpur-bhubaneshwar/order', '/bhubaneswar/kaati-zone-rolls-and-wraps-chandrasekharpur-bhubaneshwar/order', '/bhubaneswar/desi-pot-2-patia-bhubaneshwar/order', '/bhubaneswar/desi-pot-2-patia-bhubaneshwar/order', '/bhubaneswar/nakli-dhaba-mayfair-lagoon-jayadev-vihar-bhubaneshwar/order', '/bhubaneswar/nakli-dhaba-mayfair-lagoon-jayadev-vihar-bhubaneshwar/order', '/bhubaneswar/punjabi-kulfi-patia-bhubaneshwar/order', '/bhubaneswar/punjabi-kulfi-patia-bhubaneshwar/order', '/bhubaneswar/mitha-pitha-chandrasekharpur-bhubaneshwar/order', '/bhubaneswar/mitha-pitha-chandrasekharpur-bhubaneshwar/order', '/bhubaneswar/salt-kitchen-lounge-patia-bhubaneshwar/order', '/bhubaneswar/salt-kitchen-lounge-patia-bhubaneshwar/order', '/bhubaneswar/four-petals-by-varenyas-nayapalli-bhubaneshwar/order', '/bhubaneswar/four-petals-by-varenyas-nayapalli-bhubaneshwar/order', '/bhubaneswar/charcha-global-kitchen-patia-bhubaneshwar/order', '/bhubaneswar/charcha-global-kitchen-patia-bhubaneshwar/order', '/bhubaneswar/foodieland-chandrasekharpur-bhubaneshwar/order', '/bhubaneswar/foodieland-chandrasekharpur-bhubaneshwar/order', '/bhubaneswar/refresh-live-nayapalli-bhubaneshwar/order', '/bhubaneswar/refresh-live-nayapalli-bhubaneshwar/order', '/bhubaneswar/crazy-maggie-and-burger-jayadev-vihar-bhubaneshwar/order', '/bhubaneswar/crazy-maggie-and-burger-jayadev-vihar-bhubaneshwar/order', '/bhubaneswar/barista-2-patia-bhubaneshwar/order', '/bhubaneswar/barista-2-patia-bhubaneshwar/order', '/bhubaneswar/smilley-burger-1-patia-bhubaneshwar/order', '/bhubaneswar/smilley-burger-1-patia-bhubaneshwar/order', '/bhubaneswar/sweet-truth-cake-and-desserts-patia-bhubaneshwar/order', '/bhubaneswar/sweet-truth-cake-and-desserts-patia-bhubaneshwar/order', '/bhubaneswar/khopcha-patia-bhubaneshwar/order', '/bhubaneswar/khopcha-patia-bhubaneshwar/order', '/bhubaneswar/food-feast-4-chandrasekharpur-bhubaneshwar/order', '/bhubaneswar/food-feast-4-chandrasekharpur-bhubaneshwar/order', '/bhubaneswar/biryani-plus-chandrasekharpur-bhubaneshwar/order', '/bhubaneswar/biryani-plus-chandrasekharpur-bhubaneshwar/order', '/bhubaneswar/apsara-ice-creams-patia-bhubaneshwar/order', '/bhubaneswar/apsara-ice-creams-patia-bhubaneshwar/order', '/bhubaneswar/red-chilly-patia-bhubaneshwar/order', '/bhubaneswar/red-chilly-patia-bhubaneshwar/order', '/bhubaneswar/lahaina-grills-chandrasekharpur-bhubaneshwar/order', '/bhubaneswar/lahaina-grills-chandrasekharpur-bhubaneshwar/order', '/bhubaneswar/doughy-patia-bhubaneshwar/order', '/bhubaneswar/doughy-patia-bhubaneshwar/order', '/bhubaneswar/the-roll-store-1-patia-bhubaneshwar/order', '/bhubaneswar/the-roll-store-1-patia-bhubaneshwar/order', '/bhubaneswar/videsi-cafe-patia-bhubaneshwar/order', '/bhubaneswar/videsi-cafe-patia-bhubaneshwar/order', '/bhubaneswar/plan-b-cafe-patia-bhubaneshwar/order', '/bhubaneswar/plan-b-cafe-patia-bhubaneshwar/order', '/bhubaneswar/yummy-mummy-chandrasekharpur-bhubaneshwar/order', '/bhubaneswar/yummy-mummy-chandrasekharpur-bhubaneshwar/order', '/bhubaneswar/ravs-kitchen-chandrasekharpur-bhubaneshwar/order', '/bhubaneswar/ravs-kitchen-chandrasekharpur-bhubaneshwar/order', '/bhubaneswar/cream-stone-ice-cream-jayadev-vihar-bhubaneshwar/order', '/bhubaneswar/cream-stone-ice-cream-jayadev-vihar-bhubaneshwar/order', '/bhubaneswar/the-bakery-patia-bhubaneshwar/order', '/bhubaneswar/the-bakery-patia-bhubaneshwar/order', '/bhubaneswar/mba-chai-wala-1-patia-bhubaneshwar/order', '/bhubaneswar/mba-chai-wala-1-patia-bhubaneshwar/order', '/bhubaneswar/red-beryl-kharabela-nagar-bhubaneshwar/order', '/bhubaneswar/red-beryl-kharabela-nagar-bhubaneshwar/order', '/bhubaneswar/simis-kitchen-patia-bhubaneshwar/order', '/bhubaneswar/simis-kitchen-patia-bhubaneshwar/order', '/bhubaneswar/sandwich-darbar-patia-bhubaneshwar/order', '/bhubaneswar/sandwich-darbar-patia-bhubaneshwar/order', '/bhubaneswar/biriyani-nation-chandrasekharpur-bhubaneshwar/order', '/bhubaneswar/biriyani-nation-chandrasekharpur-bhubaneshwar/order', '/bhubaneswar/vishwas-kitchen-bhubaneswar-vkb-patia-bhubaneshwar/order', '/bhubaneswar/vishwas-kitchen-bhubaneswar-vkb-patia-bhubaneshwar/order', '/bhubaneswar/shohala-ana-odia-patia-bhubaneshwar/order', '/bhubaneswar/shohala-ana-odia-patia-bhubaneshwar/order', '/bhubaneswar/level-5-kitchen-patia-bhubaneshwar/order', '/bhubaneswar/level-5-kitchen-patia-bhubaneshwar/order', '/bhubaneswar/the-gourmet-shake-patia-bhubaneshwar/order', '/bhubaneswar/the-gourmet-shake-patia-bhubaneshwar/order', '/bhubaneswar/the-gourmet-swosti-premium-1-jayadev-vihar-bhubaneshwar/order', '/bhubaneswar/the-gourmet-swosti-premium-1-jayadev-vihar-bhubaneshwar/order', '/bhubaneswar/crazy-maggi-burger-chandrasekharpur-bhubaneshwar/order', '/bhubaneswar/crazy-maggi-burger-chandrasekharpur-bhubaneshwar/order', '/bhubaneswar/nourishin-patia-bhubaneshwar/order', '/bhubaneswar/nourishin-patia-bhubaneshwar/order', '/bhubaneswar/firangi-bake-patia-bhubaneshwar/order', '/bhubaneswar/firangi-bake-patia-bhubaneshwar/order', '/bhubaneswar/the-cookhouse-story-1-chandrasekharpur-bhubaneshwar/order', '/bhubaneswar/the-cookhouse-story-1-chandrasekharpur-bhubaneshwar/order', '/bhubaneswar/special-chuski-gola-patia-bhubaneshwar/order', '/bhubaneswar/special-chuski-gola-patia-bhubaneshwar/order', '/bhubaneswar/bo-kitchen-patia-bhubaneshwar/order', '/bhubaneswar/bo-kitchen-patia-bhubaneshwar/order', '/eateria-restro-cafe-food-truck/order', '/eateria-restro-cafe-food-truck/order', '/bhubaneswar/kouzina-kafe-the-food-court-chandrasekharpur-bhubaneshwar/order', '/bhubaneswar/kouzina-kafe-the-food-court-chandrasekharpur-bhubaneshwar/order', '/bhubaneswar/brown-cream-parlour-1-jayadev-vihar-bhubaneshwar/order', '/bhubaneswar/brown-cream-parlour-1-jayadev-vihar-bhubaneshwar/order', '/bhubaneswar/eat-street-jayadev-vihar-bhubaneshwar/order', '/bhubaneswar/eat-street-jayadev-vihar-bhubaneshwar/order', '/bhubaneswar/food-land-gajapati-nagar-bhubaneshwar/order', '/bhubaneswar/food-land-gajapati-nagar-bhubaneshwar/order', '/bhubaneswar/tri-fc-patia-bhubaneshwar/order', '/bhubaneswar/tri-fc-patia-bhubaneshwar/order', '/bhubaneswar/kruti-coffee-patia-bhubaneshwar/order', '/bhubaneswar/kruti-coffee-patia-bhubaneshwar/order', '/bhubaneswar/perfecto-patia-bhubaneshwar/order', '/bhubaneswar/perfecto-patia-bhubaneshwar/order', '/bhubaneswar/24-golden-restaurant-patia-bhubaneshwar/order', '/bhubaneswar/24-golden-restaurant-patia-bhubaneshwar/order', '/bhubaneswar/biryani-by-bachelors-patia-bhubaneshwar/order', '/bhubaneswar/biryani-by-bachelors-patia-bhubaneshwar/order', '/bhubaneswar/the-pratibha-1-patia-bhubaneshwar/order', '/bhubaneswar/the-pratibha-1-patia-bhubaneshwar/order', '/bhubaneswar/maddy-foody-chandrasekharpur-bhubaneshwar/order', '/bhubaneswar/maddy-foody-chandrasekharpur-bhubaneshwar/order', '/bhubaneswar/dawat-e-zaika-jayadev-vihar-bhubaneshwar/order', '/bhubaneswar/dawat-e-zaika-jayadev-vihar-bhubaneshwar/order', '/bhubaneswar/the-big-bike-hub-cafe-patia-bhubaneshwar/order', '/bhubaneswar/the-big-bike-hub-cafe-patia-bhubaneshwar/order', '/bhubaneswar/darjeeling-kitchen-patia-bhubaneshwar/order', '/bhubaneswar/darjeeling-kitchen-patia-bhubaneshwar/order', '/bhubaneswar/italian-burger-house-patia-bhubaneshwar/order', '/bhubaneswar/italian-burger-house-patia-bhubaneshwar/order', '/bhubaneswar/booze-buzz-inhouse-chandrasekharpur-bhubaneshwar/order', '/bhubaneswar/booze-buzz-inhouse-chandrasekharpur-bhubaneshwar/order', '/bhubaneswar/moms-kitchen-patia-bhubaneshwar/order', '/bhubaneswar/moms-kitchen-patia-bhubaneshwar/order', '/bhubaneswar/the-biryani-party-unit-4-bhubaneshwar/order', '/bhubaneswar/the-biryani-party-unit-4-bhubaneshwar/order', '/bhubaneswar/firdous-mastani-patia-bhubaneshwar/order', '/bhubaneswar/firdous-mastani-patia-bhubaneshwar/order', '/bhubaneswar/signature-wraps-rolls-by-faasos-patia-bhubaneshwar/order', '/bhubaneswar/signature-wraps-rolls-by-faasos-patia-bhubaneshwar/order', '/bhubaneswar/the-golden-spoon-patia-bhubaneshwar/order', '/bhubaneswar/the-golden-spoon-patia-bhubaneshwar/order', '/bhubaneswar/south-junction-patia-bhubaneshwar/order', '/bhubaneswar/south-junction-patia-bhubaneshwar/order', '/bhubaneswar/pink-burger-patia-bhubaneshwar/order', '/bhubaneswar/pink-burger-patia-bhubaneshwar/order', '/bhubaneswar/dads-kitchen-patia-bhubaneshwar/order', '/bhubaneswar/dads-kitchen-patia-bhubaneshwar/order', '/bhubaneswar/mr-kebab-chandrasekharpur-bhubaneshwar/order', '/bhubaneswar/mr-kebab-chandrasekharpur-bhubaneshwar/order', '/bhubaneswar/kolkata-fast-food-1-patia-bhubaneshwar/order', '/bhubaneswar/kolkata-fast-food-1-patia-bhubaneshwar/order', '/bhubaneswar/aladdin-grills-barbeque-1-patia-bhubaneshwar/order', '/bhubaneswar/aladdin-grills-barbeque-1-patia-bhubaneshwar/order', '/bhubaneswar/indiana-burgers-chandrasekharpur-bhubaneshwar/order', '/bhubaneswar/indiana-burgers-chandrasekharpur-bhubaneshwar/order', '/bhubaneswar/combo-house-patia-bhubaneshwar/order', '/bhubaneswar/combo-house-patia-bhubaneshwar/order', '/bhubaneswar/the-original-biryani-unit-4-bhubaneshwar/order', '/bhubaneswar/the-original-biryani-unit-4-bhubaneshwar/order', '/bhubaneswar/chai-bar-patia-bhubaneshwar/order', '/bhubaneswar/chai-bar-patia-bhubaneshwar/order', '/bhubaneswar/cafe-odisha-patia-bhubaneshwar/order', '/bhubaneswar/cafe-odisha-patia-bhubaneshwar/order', '/bhubaneswar/kytchin-jayadev-vihar-bhubaneshwar/order', '/bhubaneswar/kytchin-jayadev-vihar-bhubaneshwar/order', '/bhubaneswar/express-by-abs-patia-bhubaneshwar/order', '/bhubaneswar/express-by-abs-patia-bhubaneshwar/order', '/bhubaneswar/veg-daawat-by-behrouz-patia-bhubaneshwar/order', '/bhubaneswar/veg-daawat-by-behrouz-patia-bhubaneshwar/order', '/bhubaneswar/lemon-grass-mayfair-lagoon-jayadev-vihar-bhubaneshwar/order', '/bhubaneswar/lemon-grass-mayfair-lagoon-jayadev-vihar-bhubaneshwar/order', '/bhubaneswar/v-dine-patia-bhubaneshwar/order', '/bhubaneswar/v-dine-patia-bhubaneshwar/order', '/bhubaneswar/the-claypot-biryani-chandrasekharpur-bhubaneshwar/order', '/bhubaneswar/the-claypot-biryani-chandrasekharpur-bhubaneshwar/order', '/bhubaneswar/sundae-everyday-ice-creams-chandrasekharpur-bhubaneshwar/order', '/bhubaneswar/sundae-everyday-ice-creams-chandrasekharpur-bhubaneshwar/order', '/bhubaneswar/the-burger-house-1-patia-bhubaneshwar/order', '/bhubaneswar/the-burger-house-1-patia-bhubaneshwar/order', '/bhubaneswar/momo-zone-the-momo-company-chandrasekharpur-bhubaneshwar/order', '/bhubaneswar/momo-zone-the-momo-company-chandrasekharpur-bhubaneshwar/order', '/bhubaneswar/its-just-wings-sahid-nagar-bhubaneshwar/order', '/bhubaneswar/its-just-wings-sahid-nagar-bhubaneshwar/order', '/bhubaneswar/slurpy-shakes-chandrasekharpur-bhubaneshwar/order', '/bhubaneswar/slurpy-shakes-chandrasekharpur-bhubaneshwar/order', '/bhubaneswar/reverb-resto-cafe-patia-bhubaneshwar/order', '/bhubaneswar/reverb-resto-cafe-patia-bhubaneshwar/order', '/bhubaneswar/crazzy-eggs-gajapati-nagar-bhubaneshwar/order', '/bhubaneswar/crazzy-eggs-gajapati-nagar-bhubaneshwar/order', '/bhubaneswar/waffle-n-creme-1-patia-bhubaneshwar/order', '/bhubaneswar/waffle-n-creme-1-patia-bhubaneshwar/order', '/bhubaneswar/grand-kalinga-chandrasekharpur-bhubaneshwar/order', '/bhubaneswar/grand-kalinga-chandrasekharpur-bhubaneshwar/order', '/bhubaneswar/sura-empires-hotel-sahid-nagar-bhubaneshwar/order', '/bhubaneswar/sura-empires-hotel-sahid-nagar-bhubaneshwar/order', '/bhubaneswar/mad-moose-artisan-gelato-patia-bhubaneshwar/order', '/bhubaneswar/mad-moose-artisan-gelato-patia-bhubaneshwar/order', '/bhubaneswar/3-chef-the-mexicana-hut-patia-bhubaneshwar/order', '/bhubaneswar/3-chef-the-mexicana-hut-patia-bhubaneshwar/order', '/bhubaneswar/my-kitchen-1-patia-bhubaneshwar/order', '/bhubaneswar/my-kitchen-1-patia-bhubaneshwar/order', '/bhubaneswar/jack-and-jill-patia-bhubaneshwar/order', '/bhubaneswar/jack-and-jill-patia-bhubaneshwar/order', '/bhubaneswar/lbc-london-bubble-co-patia-bhubaneshwar/order', '/bhubaneswar/lbc-london-bubble-co-patia-bhubaneshwar/order', '/bhubaneswar/sweet-treat-2-nayapalli-bhubaneshwar/order', '/bhubaneswar/sweet-treat-2-nayapalli-bhubaneshwar/order', '/bhubaneswar/food-4-you-1-chandrasekharpur-bhubaneshwar/order', '/bhubaneswar/food-4-you-1-chandrasekharpur-bhubaneshwar/order', '/bhubaneswar/bowl-king-1-patia-bhubaneshwar/order', '/bhubaneswar/bowl-king-1-patia-bhubaneshwar/order', '/bhubaneswar/online-dhabba-patia-bhubaneshwar/order', '/bhubaneswar/online-dhabba-patia-bhubaneshwar/order', '/bhubaneswar/786-shafeek-fast-food-and-dum-biryani-chandrasekharpur-bhubaneshwar/order', '/bhubaneswar/786-shafeek-fast-food-and-dum-biryani-chandrasekharpur-bhubaneshwar/order', '/bhubaneswar/the-crispy-heaven-1-chandrasekharpur-bhubaneshwar/order', '/bhubaneswar/the-crispy-heaven-1-chandrasekharpur-bhubaneshwar/order', '/bhubaneswar/brothers-kitchen-1-patia-bhubaneshwar/order', '/bhubaneswar/brothers-kitchen-1-patia-bhubaneshwar/order', '/bhubaneswar/just-creamery-patia-bhubaneshwar/order', '/bhubaneswar/just-creamery-patia-bhubaneshwar/order', '/bhubaneswar/momos-world-chandrasekharpur-bhubaneshwar/order', '/bhubaneswar/momos-world-chandrasekharpur-bhubaneshwar/order', '/bhubaneswar/paris-bakery-1-unit-4-bhubaneshwar/order', '/bhubaneswar/paris-bakery-1-unit-4-bhubaneshwar/order', '/bhubaneswar/jay-jagannath-sugercane-juice-centre-gajapati-nagar-bhubaneshwar/order', '/bhubaneswar/jay-jagannath-sugercane-juice-centre-gajapati-nagar-bhubaneshwar/order', '/bhubaneswar/burger-it-up-chandrasekharpur-bhubaneshwar/order', '/bhubaneswar/burger-it-up-chandrasekharpur-bhubaneshwar/order', '/bhubaneswar/biswal-hotel-fast-food-gajapati-nagar-bhubaneshwar/order', '/bhubaneswar/biswal-hotel-fast-food-gajapati-nagar-bhubaneshwar/order', '/bhubaneswar/dagwitch-patia-bhubaneshwar/order', '/bhubaneswar/dagwitch-patia-bhubaneshwar/order', '/bhubaneswar/the-stoned-chef-chandrasekharpur-bhubaneshwar/order', '/bhubaneswar/the-stoned-chef-chandrasekharpur-bhubaneshwar/order', '/bhubaneswar/twinkles-kitchen-77-patia-bhubaneshwar/order', '/bhubaneswar/twinkles-kitchen-77-patia-bhubaneshwar/order', '/bhubaneswar/starboy-pizza-shakes-gajapati-nagar-bhubaneshwar/order', '/bhubaneswar/starboy-pizza-shakes-gajapati-nagar-bhubaneshwar/order', '/bhubaneswar/cook-the-biryani-patia-bhubaneshwar/order', '/bhubaneswar/cook-the-biryani-patia-bhubaneshwar/order', '/bhubaneswar/momo-way-patia-bhubaneshwar/order', '/bhubaneswar/momo-way-patia-bhubaneshwar/order', '/bhubaneswar/bowlxpert-gajapati-nagar-bhubaneshwar/order', '/bhubaneswar/bowlxpert-gajapati-nagar-bhubaneshwar/order', '/bhubaneswar/drip-cafe-and-restaurant-patia-bhubaneshwar/order', '/bhubaneswar/drip-cafe-and-restaurant-patia-bhubaneshwar/order', '/bhubaneswar/rolls-fusion-1-patia-bhubaneshwar/order', '/bhubaneswar/rolls-fusion-1-patia-bhubaneshwar/order', '/bhubaneswar/just-momo-gajapati-nagar-bhubaneshwar/order', '/bhubaneswar/just-momo-gajapati-nagar-bhubaneshwar/order', '/bhubaneswar/petu-biryani-chandrasekharpur-bhubaneshwar/order', '/bhubaneswar/petu-biryani-chandrasekharpur-bhubaneshwar/order', '/bhubaneswar/kaze-kitchen-chandrasekharpur-bhubaneshwar/order', '/bhubaneswar/kaze-kitchen-chandrasekharpur-bhubaneshwar/order', '/bhubaneswar/bawarchi-bbc-chandrasekharpur-bhubaneshwar/order', '/bhubaneswar/bawarchi-bbc-chandrasekharpur-bhubaneshwar/order', '/bhubaneswar/red-onion-patia-bhubaneshwar/order', '/bhubaneswar/red-onion-patia-bhubaneshwar/order', '/bhubaneswar/zingy-fry-patia-bhubaneshwar/order', '/bhubaneswar/zingy-fry-patia-bhubaneshwar/order', '/bhubaneswar/burger-street-chandrasekharpur-bhubaneshwar/order', '/bhubaneswar/burger-street-chandrasekharpur-bhubaneshwar/order', '/bhubaneswar/richas-mini-kitchen-patia-bhubaneshwar/order', '/bhubaneswar/richas-mini-kitchen-patia-bhubaneshwar/order', '/bhubaneswar/czar-by-biggies-burger-patia-bhubaneshwar/order', '/bhubaneswar/czar-by-biggies-burger-patia-bhubaneshwar/order', '/bhubaneswar/the-chop-box-2-patia-bhubaneshwar/order', '/bhubaneswar/the-chop-box-2-patia-bhubaneshwar/order', '/bhubaneswar/hot-food-chandrasekharpur-bhubaneshwar/order', '/bhubaneswar/hot-food-chandrasekharpur-bhubaneshwar/order', '/bhubaneswar/sonus-town-pizza-gajapati-nagar-bhubaneshwar/order', '/bhubaneswar/sonus-town-pizza-gajapati-nagar-bhubaneshwar/order', '/bhubaneswar/the-burger-house-patia-bhubaneshwar/order', '/bhubaneswar/the-burger-house-patia-bhubaneshwar/order', '/bhubaneswar/the-biryani-life-patia-bhubaneshwar/order', '/bhubaneswar/the-biryani-life-patia-bhubaneshwar/order', '/bhubaneswar/the-good-bowl-patia-bhubaneshwar/order', '/bhubaneswar/the-good-bowl-patia-bhubaneshwar/order', '/bhubaneswar/foodzenix-chandrasekharpur-bhubaneshwar/order', '/bhubaneswar/foodzenix-chandrasekharpur-bhubaneshwar/order', '/bhubaneswar/green-dot-pizza-gajapati-nagar-bhubaneshwar/order', '/bhubaneswar/green-dot-pizza-gajapati-nagar-bhubaneshwar/order', '/bhubaneswar/bachelor-khati-chandrasekharpur-bhubaneshwar/order', '/bhubaneswar/bachelor-khati-chandrasekharpur-bhubaneshwar/order', '/bhubaneswar/sufis-restaurant-and-coffee-shop-patia-bhubaneshwar/order', '/bhubaneswar/sufis-restaurant-and-coffee-shop-patia-bhubaneshwar/order', '/bhubaneswar/la-paratha-de-aachar-patia-bhubaneshwar/order', '/bhubaneswar/la-paratha-de-aachar-patia-bhubaneshwar/order', '/bhubaneswar/fato-patia-bhubaneshwar/order', '/bhubaneswar/fato-patia-bhubaneshwar/order', '/bhubaneswar/taste-of-bengal-patia-bhubaneshwar/order', '/bhubaneswar/taste-of-bengal-patia-bhubaneshwar/order', '/bhubaneswar/hatt-meal-box-patia-bhubaneshwar/order', '/bhubaneswar/hatt-meal-box-patia-bhubaneshwar/order', '/bhubaneswar/hotel-mehephil-patia-bhubaneshwar/order', '/bhubaneswar/hotel-mehephil-patia-bhubaneshwar/order', '/bhubaneswar/berhampuria-tiffin-patia-bhubaneshwar/order', '/bhubaneswar/berhampuria-tiffin-patia-bhubaneshwar/order', '/bhubaneswar/chops-n-grills-1-patia-bhubaneshwar/order', '/bhubaneswar/chops-n-grills-1-patia-bhubaneshwar/order', '/bhubaneswar/maa-mangala-tiffin-shop-patia-bhubaneshwar/order', '/bhubaneswar/maa-mangala-tiffin-shop-patia-bhubaneshwar/order', '/bhubaneswar/twenty20-cafeteria-patia-bhubaneshwar/order', '/bhubaneswar/twenty20-cafeteria-patia-bhubaneshwar/order', '/bhubaneswar/scrumptious-biryani-patia-bhubaneshwar/order', '/bhubaneswar/scrumptious-biryani-patia-bhubaneshwar/order', '/bhubaneswar/flavour-blast-dum-biriyani-patia-bhubaneshwar/order', '/bhubaneswar/flavour-blast-dum-biriyani-patia-bhubaneshwar/order']\n",
      "722\n"
     ]
    }
   ],
   "source": [
    "soup = BeautifulSoup(driver.page_source, 'lxml')\n",
    "product_list = soup.find_all('div', class_='jumbo-tracker')\n",
    "    #print(product_list)\n",
    "    \n",
    "for item in product_list:\n",
    "    for link in item.find_all('a', href=True):\n",
    "        product_links.append(link['href'])\n",
    "\n",
    "print(product_links)\n",
    "print(len(product_links))"
   ]
  },
  {
   "cell_type": "code",
   "execution_count": 11,
   "id": "e6bbfab3",
   "metadata": {},
   "outputs": [
    {
     "name": "stdout",
     "output_type": "stream",
     "text": [
      "722\n"
     ]
    }
   ],
   "source": [
    "url = 'https://www.zomato.com'\n",
    "new_links2 = [url + x for x in product_links]\n",
    "print(len(new_links2))"
   ]
  },
  {
   "cell_type": "code",
   "execution_count": 12,
   "id": "a6648ece",
   "metadata": {},
   "outputs": [
    {
     "name": "stdout",
     "output_type": "stream",
     "text": [
      "367\n"
     ]
    }
   ],
   "source": [
    "new_links = list( dict.fromkeys(new_links2) )\n",
    "print(len(new_links))"
   ]
  },
  {
   "cell_type": "code",
   "execution_count": 13,
   "id": "a2c6959c",
   "metadata": {},
   "outputs": [],
   "source": [
    "name_list = []\n",
    "contact_list = []\n",
    "address_list = []\n",
    "fssai_list = []\n",
    "#menu_container = []\n",
    "menu_list = []\n",
    "#restaurents_list = []"
   ]
  },
  {
   "cell_type": "code",
   "execution_count": 14,
   "id": "7445f28e",
   "metadata": {},
   "outputs": [],
   "source": [
    "for link in new_links:\n",
    "    try:\n",
    "        test_url_overview = link.replace('order', '')\n",
    "        r = requests.get(test_url_overview, headers = headers)\n",
    "        soup3 = BeautifulSoup(r.content, 'lxml')\n",
    "        name = soup3.find('h1', class_=\"sc-7kepeu-0 sc-kZmsYB dggtcP\").text\n",
    "        name_list.append(name)\n",
    "        #print(name)\n",
    "        contact = soup3.find('p', class_=\"sc-1hez2tp-0 fanwIZ\").text\n",
    "        contact_list.append(contact)\n",
    "        #print(contact)\n",
    "        r = requests.get(test_url_overview, headers = headers)\n",
    "        soup3 = BeautifulSoup(r.content, 'lxml')\n",
    "        address = soup3.find('p', class_=\"sc-1hez2tp-0 clKRrC\").text\n",
    "        address_list.append(address)\n",
    "        r = requests.get(link, headers = headers)\n",
    "        soup2 = BeautifulSoup(r.content, 'lxml')\n",
    "        #fssai\n",
    "        soup4 = BeautifulSoup(r.content, 'lxml').text\n",
    "        start = soup4.find('No. ') + 4\n",
    "        end = soup4.find('Rel', start)\n",
    "        fssai = soup4[start:end]\n",
    "        fssai_list.append(fssai)\n",
    "        \n",
    "        #fssaiend\n",
    "        menu_container = list()\n",
    "        menu = soup2.find_all('h4', class_=\"sc-1s0saks-15 iSmBPS\")\n",
    "        for value in menu:\n",
    "            menu_text = value.text\n",
    "            menu_container.append(menu_text)\n",
    "        menu_list.append(menu_container)\n",
    "        \n",
    "        \n",
    "    except:\n",
    "        pass\n",
    "    \n",
    "df = pd.DataFrame({'name_list': name_list,'contact_list': contact_list,'address_list': address_list,'fssai_list': fssai_list, 'menu_list': menu_list})"
   ]
  },
  {
   "cell_type": "code",
   "execution_count": 15,
   "id": "ca8c226a",
   "metadata": {},
   "outputs": [
    {
     "data": {
      "text/html": [
       "<div>\n",
       "<style scoped>\n",
       "    .dataframe tbody tr th:only-of-type {\n",
       "        vertical-align: middle;\n",
       "    }\n",
       "\n",
       "    .dataframe tbody tr th {\n",
       "        vertical-align: top;\n",
       "    }\n",
       "\n",
       "    .dataframe thead th {\n",
       "        text-align: right;\n",
       "    }\n",
       "</style>\n",
       "<table border=\"1\" class=\"dataframe\">\n",
       "  <thead>\n",
       "    <tr style=\"text-align: right;\">\n",
       "      <th></th>\n",
       "      <th>name_list</th>\n",
       "      <th>contact_list</th>\n",
       "      <th>address_list</th>\n",
       "      <th>fssai_list</th>\n",
       "      <th>menu_list</th>\n",
       "    </tr>\n",
       "  </thead>\n",
       "  <tbody>\n",
       "    <tr>\n",
       "      <th>0</th>\n",
       "      <td>Keventers - Milkshakes &amp; Desserts</td>\n",
       "      <td>+917539068497</td>\n",
       "      <td>Plot 516/1728/2687, Ward 2, Mouza, Patia, Bhub...</td>\n",
       "      <td>12017033000607</td>\n",
       "      <td>[Choco Chip Milkshake, Kit-Kat Milkshake, Choc...</td>\n",
       "    </tr>\n",
       "    <tr>\n",
       "      <th>1</th>\n",
       "      <td>Burger King</td>\n",
       "      <td>+917208966745</td>\n",
       "      <td>Plot 516/1761/3850, Khata 474/2193, Patia Vill...</td>\n",
       "      <td>12018033000563</td>\n",
       "      <td>[Chicken Whopper, Veg Whopper, Crispy Chicken ...</td>\n",
       "    </tr>\n",
       "    <tr>\n",
       "      <th>2</th>\n",
       "      <td>Chandini Food Magic</td>\n",
       "      <td>+916371236304</td>\n",
       "      <td>Infront Of Seed Corporation, KIIT University, ...</td>\n",
       "      <td>12021033000365</td>\n",
       "      <td>[Non Veg Bahubali Special Roll, Veg Manchurian...</td>\n",
       "    </tr>\n",
       "    <tr>\n",
       "      <th>3</th>\n",
       "      <td>Taste Of China</td>\n",
       "      <td>+919040022201</td>\n",
       "      <td>139, District Center, Chandrasekharpur, Bhuban...</td>\n",
       "      <td>12019033000313</td>\n",
       "      <td>[Vegetable Mix Noodles, Vegetable Hakka Noodle...</td>\n",
       "    </tr>\n",
       "    <tr>\n",
       "      <th>4</th>\n",
       "      <td>Biriyani Box</td>\n",
       "      <td>+917440022005</td>\n",
       "      <td>Plot 485, KIIT Road, Opposite SBI, Patia, Bhub...</td>\n",
       "      <td>12018033000399</td>\n",
       "      <td>[Chicken Biriyani, Chicken Tikka Biriyani, Veg...</td>\n",
       "    </tr>\n",
       "    <tr>\n",
       "      <th>...</th>\n",
       "      <td>...</td>\n",
       "      <td>...</td>\n",
       "      <td>...</td>\n",
       "      <td>...</td>\n",
       "      <td>...</td>\n",
       "    </tr>\n",
       "    <tr>\n",
       "      <th>350</th>\n",
       "      <td>Chops N Grills</td>\n",
       "      <td>+919777777737</td>\n",
       "      <td>Shop 8, Plot 3, Khata 493, Infocity Road, Pati...</td>\n",
       "      <td>22022033000410</td>\n",
       "      <td>[Chicken Hydrabadi Biriyani, Kolkata Chkn Biri...</td>\n",
       "    </tr>\n",
       "    <tr>\n",
       "      <th>351</th>\n",
       "      <td>Maa Mangala Tiffin Shop</td>\n",
       "      <td>+917684820276</td>\n",
       "      <td>Plot 516/1753, KIIT Square, Near SBI Bank, Pat...</td>\n",
       "      <td>22021033004217</td>\n",
       "      <td>[Idli [5 Pieces], Vada [5 Pieces], 5 Puri, Alo...</td>\n",
       "    </tr>\n",
       "    <tr>\n",
       "      <th>352</th>\n",
       "      <td>Twenty20 Cafeteria</td>\n",
       "      <td>+919437205125</td>\n",
       "      <td>L V Prasad Eye Institute, Near Sai Internation...</td>\n",
       "      <td>12019033000211</td>\n",
       "      <td>[Veg Thali, Special Thali]</td>\n",
       "    </tr>\n",
       "    <tr>\n",
       "      <th>353</th>\n",
       "      <td>Scrumptious Biryani</td>\n",
       "      <td>+918280038003</td>\n",
       "      <td>Plot 3, Khata 493, Info City Square, Patia, Bh...</td>\n",
       "      <td>12021033000107</td>\n",
       "      <td>[Scrumptious Chicken Drumstick Biryani Lite, S...</td>\n",
       "    </tr>\n",
       "    <tr>\n",
       "      <th>354</th>\n",
       "      <td>Flavour Blast Dum Biriyani</td>\n",
       "      <td>+917381334443</td>\n",
       "      <td>Plot 517, Patia Village, Ward 3, BMC, Patia, B...</td>\n",
       "      <td>22022033005575</td>\n",
       "      <td>[Chicken Dum Biryani, Chicken Dum Biryani]</td>\n",
       "    </tr>\n",
       "  </tbody>\n",
       "</table>\n",
       "<p>355 rows × 5 columns</p>\n",
       "</div>"
      ],
      "text/plain": [
       "                             name_list   contact_list  \\\n",
       "0    Keventers - Milkshakes & Desserts  +917539068497   \n",
       "1                          Burger King  +917208966745   \n",
       "2                  Chandini Food Magic  +916371236304   \n",
       "3                       Taste Of China  +919040022201   \n",
       "4                         Biriyani Box  +917440022005   \n",
       "..                                 ...            ...   \n",
       "350                     Chops N Grills  +919777777737   \n",
       "351            Maa Mangala Tiffin Shop  +917684820276   \n",
       "352                 Twenty20 Cafeteria  +919437205125   \n",
       "353                Scrumptious Biryani  +918280038003   \n",
       "354         Flavour Blast Dum Biriyani  +917381334443   \n",
       "\n",
       "                                          address_list      fssai_list  \\\n",
       "0    Plot 516/1728/2687, Ward 2, Mouza, Patia, Bhub...  12017033000607   \n",
       "1    Plot 516/1761/3850, Khata 474/2193, Patia Vill...  12018033000563   \n",
       "2    Infront Of Seed Corporation, KIIT University, ...  12021033000365   \n",
       "3    139, District Center, Chandrasekharpur, Bhuban...  12019033000313   \n",
       "4    Plot 485, KIIT Road, Opposite SBI, Patia, Bhub...  12018033000399   \n",
       "..                                                 ...             ...   \n",
       "350  Shop 8, Plot 3, Khata 493, Infocity Road, Pati...  22022033000410   \n",
       "351  Plot 516/1753, KIIT Square, Near SBI Bank, Pat...  22021033004217   \n",
       "352  L V Prasad Eye Institute, Near Sai Internation...  12019033000211   \n",
       "353  Plot 3, Khata 493, Info City Square, Patia, Bh...  12021033000107   \n",
       "354  Plot 517, Patia Village, Ward 3, BMC, Patia, B...  22022033005575   \n",
       "\n",
       "                                             menu_list  \n",
       "0    [Choco Chip Milkshake, Kit-Kat Milkshake, Choc...  \n",
       "1    [Chicken Whopper, Veg Whopper, Crispy Chicken ...  \n",
       "2    [Non Veg Bahubali Special Roll, Veg Manchurian...  \n",
       "3    [Vegetable Mix Noodles, Vegetable Hakka Noodle...  \n",
       "4    [Chicken Biriyani, Chicken Tikka Biriyani, Veg...  \n",
       "..                                                 ...  \n",
       "350  [Chicken Hydrabadi Biriyani, Kolkata Chkn Biri...  \n",
       "351  [Idli [5 Pieces], Vada [5 Pieces], 5 Puri, Alo...  \n",
       "352                         [Veg Thali, Special Thali]  \n",
       "353  [Scrumptious Chicken Drumstick Biryani Lite, S...  \n",
       "354         [Chicken Dum Biryani, Chicken Dum Biryani]  \n",
       "\n",
       "[355 rows x 5 columns]"
      ]
     },
     "execution_count": 15,
     "metadata": {},
     "output_type": "execute_result"
    }
   ],
   "source": [
    "df"
   ]
  },
  {
   "cell_type": "code",
   "execution_count": 16,
   "id": "55b02dd2",
   "metadata": {},
   "outputs": [],
   "source": [
    "df.to_csv('zomato_restaurents_patia.csv')"
   ]
  },
  {
   "cell_type": "code",
   "execution_count": null,
   "id": "67163635",
   "metadata": {},
   "outputs": [],
   "source": []
  }
 ],
 "metadata": {
  "kernelspec": {
   "display_name": "Python 3 (ipykernel)",
   "language": "python",
   "name": "python3"
  },
  "language_info": {
   "codemirror_mode": {
    "name": "ipython",
    "version": 3
   },
   "file_extension": ".py",
   "mimetype": "text/x-python",
   "name": "python",
   "nbconvert_exporter": "python",
   "pygments_lexer": "ipython3",
   "version": "3.9.12"
  }
 },
 "nbformat": 4,
 "nbformat_minor": 5
}
